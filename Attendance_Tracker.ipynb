{
  "nbformat": 4,
  "nbformat_minor": 0,
  "metadata": {
    "colab": {
      "name": "Attendance Tracker.ipynb",
      "provenance": []
    },
    "kernelspec": {
      "name": "python3",
      "display_name": "Python 3"
    },
    "language_info": {
      "name": "python"
    }
  },
  "cells": [
    {
      "cell_type": "markdown",
      "metadata": {
        "id": "7Z7oVqL1jo6X"
      },
      "source": [
        "# ***Mounting Goole drive:-***"
      ]
    },
    {
      "cell_type": "code",
      "metadata": {
        "colab": {
          "base_uri": "https://localhost:8080/"
        },
        "id": "S8du0qfuBlsp",
        "outputId": "3f200289-fb92-4870-cde6-739b163205b7"
      },
      "source": [
        "from google.colab import drive\n",
        "drive.mount('/content/gdrive')"
      ],
      "execution_count": null,
      "outputs": [
        {
          "output_type": "stream",
          "name": "stdout",
          "text": [
            "Drive already mounted at /content/gdrive; to attempt to forcibly remount, call drive.mount(\"/content/gdrive\", force_remount=True).\n"
          ]
        }
      ]
    },
    {
      "cell_type": "markdown",
      "metadata": {
        "id": "Q42rt9owjxlm"
      },
      "source": [
        "# ***Importing the attendance sheet (.xlsx) and the attendance (.csv):-***"
      ]
    },
    {
      "cell_type": "code",
      "metadata": {
        "id": "663o6S_pieLY"
      },
      "source": [
        "import csv\n",
        "import openpyxl\n",
        "from datetime import date\n",
        "raw_attendance = open(\"Attendance.csv\", 'r')\n",
        "attendance = list(csv.reader(raw_attendance))\n",
        "raw_attendance.close()\n",
        "class_list = openpyxl.load_workbook(\"/content/gdrive/MyDrive/PC-EI303 Class Attendance.xlsx\")\n",
        "primary_sheet, participant_list = class_list['Attendance'], []"
      ],
      "execution_count": null,
      "outputs": []
    },
    {
      "cell_type": "markdown",
      "metadata": {
        "id": "5NAZjQojkO-w"
      },
      "source": [
        "# ***Defining Constraints and making a list of participants:-***"
      ]
    },
    {
      "cell_type": "code",
      "metadata": {
        "id": "CSvxZODnijku"
      },
      "source": [
        "minr, minc = primary_sheet.min_row, primary_sheet.min_column\n",
        "maxr , maxc = primary_sheet.max_row, primary_sheet.max_column\n",
        "[participant_list.append((attendance[5+i:][0][0]).lower()) for i in range(0, len(attendance)-5)]\n",
        "pass"
      ],
      "execution_count": null,
      "outputs": []
    },
    {
      "cell_type": "markdown",
      "metadata": {
        "id": "u7jWqykDkgb7"
      },
      "source": [
        "# ***Getting rid of useless data and editing variable values:-***"
      ]
    },
    {
      "cell_type": "code",
      "metadata": {
        "id": "RLvn_zUUimmK"
      },
      "source": [
        "for name in participant_list:\n",
        "  participant_list.pop(participant_list.index(name)) if name == None else False\n",
        "  new_name = []\n",
        "  [new_name.append(letter) if (letter.isalpha() or letter.isspace()) else 0 for letter in name]\n",
        "  new_name.pop() if new_name[-1].isspace() else 0\n",
        "  participant_list[participant_list.index(name)] = ''.join(new_name)\n",
        "for i in range(minr, maxr):\n",
        "  maxr = maxr if primary_sheet.cell(row=minr+i, column=1).value==None else i+1\n",
        "for i in range(minc, maxc):\n",
        "  maxc = maxc if primary_sheet.cell(row=1, column=minc+i).value==None else i+1"
      ],
      "execution_count": null,
      "outputs": []
    },
    {
      "cell_type": "markdown",
      "metadata": {
        "id": "Xl5Ofc1MlEWH"
      },
      "source": [
        "# ***Marking attendance and saving file:-***"
      ]
    },
    {
      "cell_type": "code",
      "metadata": {
        "id": "qpVFcBxvKG67"
      },
      "source": [
        "primary_sheet.cell(row=1, column=maxc+1, value = date.today().strftime(\"%d/%m/%Y\"))\n",
        "for i in range(minr, maxr):\n",
        "    preab = \"Present\" if primary_sheet.cell(row=minr+i, column=1).value.lower() in participant_list else \"A\"\n",
        "    #print(primary_sheet.cell(row=minr+i, column=1).value)\n",
        "    primary_sheet.cell(row=i+1, column=maxc+1, value = preab)\n",
        "class_list.save(\"/content/gdrive/MyDrive/PC-EI303 Class Attendance.xlsx\")"
      ],
      "execution_count": null,
      "outputs": []
    },
    {
      "cell_type": "markdown",
      "metadata": {
        "id": "x0-H3EVejbRH"
      },
      "source": [
        "# ***The following pieces of code are just for testing purposes:-***"
      ]
    },
    {
      "cell_type": "code",
      "metadata": {
        "id": "4SuBoKRMJEEj"
      },
      "source": [
        "for i in range(minr, maxr):\n",
        "  maxr = maxr if primary_sheet.cell(row=minr+i, column=1).value==None else i+1\n",
        "for i in range(minc, maxc):\n",
        "  maxc = maxc if primary_sheet.cell(row=1, column=minc+i).value==None else i+1\n",
        "#print(maxr, maxc)"
      ],
      "execution_count": null,
      "outputs": []
    },
    {
      "cell_type": "code",
      "metadata": {
        "id": "ig1eXeIjgNnG",
        "colab": {
          "base_uri": "https://localhost:8080/"
        },
        "outputId": "e2fab7e2-5371-4786-a43b-d116af66a06d"
      },
      "source": [
        "for name in participant_list:\n",
        "  participant_list.pop(participant_list.index(name)) if name == None else False\n",
        "  new_name = []\n",
        "  [new_name.append(letter) if (letter.isalpha() or letter.isspace()) else 0 for letter in name]\n",
        "  new_name.pop() if new_name[-1].isspace() else 0\n",
        "  participant_list[participant_list.index(name)] = ''.join(new_name)\n",
        "participant_list"
      ],
      "execution_count": null,
      "outputs": [
        {
          "output_type": "execute_result",
          "data": {
            "text/plain": [
              "['arnab bhadra',\n",
              " 'abhradeep mondal',\n",
              " 'akash gupta',\n",
              " 'anindita mitra',\n",
              " 'anjali verma',\n",
              " 'ankit adhikary',\n",
              " 'anuran namhata',\n",
              " 'arghya baral',\n",
              " 'bibek jha',\n",
              " 'deep singh',\n",
              " 'debasish mukherjee',\n",
              " 'dia bhattacharya',\n",
              " 'harshita raj',\n",
              " 'julia das',\n",
              " 'koushik kar',\n",
              " 'md ahasanul islam',\n",
              " 'meghadri koley',\n",
              " 'nabanita banerjee',\n",
              " 'pallab sarkar',\n",
              " 'rahul kumar',\n",
              " 'rajarshi roy',\n",
              " 'ram krishna pandey',\n",
              " 'ranojit lahiri',\n",
              " 'ratnadip datta',\n",
              " 'raunak kumar jha',\n",
              " 'ravi shankar',\n",
              " 'rohan banerjee',\n",
              " 'sabyasachi seal',\n",
              " 'sanjukta ghosh',\n",
              " 'soumik ghosh',\n",
              " 'soumik paul',\n",
              " 'sourasis das',\n",
              " 'sruti aich',\n",
              " 'subhamay patra',\n",
              " 'subhodeep roy',\n",
              " 'swarnali bose',\n",
              " 'sampurna ghosh',\n",
              " 'sanjukta ghosh']"
            ]
          },
          "metadata": {},
          "execution_count": 8
        }
      ]
    }
  ]
}