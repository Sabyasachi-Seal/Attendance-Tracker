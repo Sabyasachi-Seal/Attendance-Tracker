{
 "cells": [
  {
   "cell_type": "code",
   "execution_count": 59,
   "source": [
    "import csv\r\n",
    "import openpyxl\r\n",
    "from datetime import date\r\n",
    "raw_attendance = open(input(\"Enter filename with extention.Put the file in root directory:-\"), 'r')\r\n",
    "attendance = list(csv.reader(raw_attendance))\r\n",
    "raw_attendance.close()\r\n",
    "class_list = openpyxl.load_workbook(\"F:\\\\Documents\\\\Attendance Tracking\\\\PC-EI303 Class Attendance.xlsx\")\r\n",
    "primary_sheet = class_list['Attendance']\r\n",
    "minr, minc, maxr, maxc = primary_sheet.min_row, primary_sheet.min_column, primary_sheet.max_row, primary_sheet.max_column\r\n",
    "new_list = []\r\n",
    "primary_sheet.cell(row=1, column=maxc+1, value = date.today().strftime(\"%d/%m/%Y\"))\r\n",
    "for i in range(0, len(attendance)-5):\r\n",
    "    new_list.append((attendance[5+i:][0][0]).lower())\r\n",
    "for i in range(minr, maxr):\r\n",
    "    preab = \"Present\" if primary_sheet.cell(row=minr+i, column=1).value.lower() in new_list else \"Absent\"\r\n",
    "    primary_sheet.cell(row=i+1, column=maxc+1, value = preab)\r\n",
    "class_list.save(\"F:\\\\Documents\\\\Attendance Tracking\\\\PC-EI303 Class Attendance.xlsx\")"
   ],
   "outputs": [],
   "metadata": {}
  }
 ],
 "metadata": {
  "orig_nbformat": 4,
  "language_info": {
   "name": "python",
   "version": "3.9.7",
   "mimetype": "text/x-python",
   "codemirror_mode": {
    "name": "ipython",
    "version": 3
   },
   "pygments_lexer": "ipython3",
   "nbconvert_exporter": "python",
   "file_extension": ".py"
  },
  "kernelspec": {
   "name": "python3",
   "display_name": "Python 3.9.7 64-bit (windows store)"
  },
  "interpreter": {
   "hash": "38d51dd8e8d25c2b4859ddf5fde4d8615b38902fd48d30a19bf46ddb81d406a6"
  }
 },
 "nbformat": 4,
 "nbformat_minor": 2
}